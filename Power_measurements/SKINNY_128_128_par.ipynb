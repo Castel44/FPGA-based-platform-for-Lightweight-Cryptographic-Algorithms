{
 "cells": [
  {
   "cell_type": "code",
   "execution_count": 21,
   "metadata": {},
   "outputs": [],
   "source": [
    "import numpy as np\n",
    "import matplotlib.pyplot as plt\n",
    "import os "
   ]
  },
  {
   "cell_type": "code",
   "execution_count": 22,
   "metadata": {},
   "outputs": [],
   "source": [
    "from scipy.integrate import cumtrapz"
   ]
  },
  {
   "cell_type": "code",
   "execution_count": 23,
   "metadata": {},
   "outputs": [],
   "source": [
    "def load_csv(file_name):\n",
    "    data = np.loadtxt(file_name, delimiter=',', skiprows=10)\n",
    "    return data"
   ]
  },
  {
   "cell_type": "code",
   "execution_count": 24,
   "metadata": {},
   "outputs": [],
   "source": [
    "cipher_csv_dir = os.getcwd() + '/SKINNY_128_csv'\n"
   ]
  },
  {
   "cell_type": "code",
   "execution_count": 25,
   "metadata": {},
   "outputs": [],
   "source": [
    "sampling_freq = 100e6\n",
    "sampling_time = 1/sampling_freq\n"
   ]
  },
  {
   "cell_type": "code",
   "execution_count": 26,
   "metadata": {},
   "outputs": [],
   "source": [
    "def rms(x, axis=0):\n",
    "    y = np.mean(x**2, axis)**0.5\n",
    "    \n",
    "    return y"
   ]
  },
  {
   "cell_type": "code",
   "execution_count": 43,
   "metadata": {},
   "outputs": [],
   "source": [
    "# load aes\n",
    "aes_c162_active = []\n",
    "aes_l3_active =[]\n",
    "\n",
    "aes_c162_idle = []\n",
    "aes_l3_idle = []\n",
    "\n",
    "\n",
    "\n",
    "for i in range(1,10):\n",
    "    \n",
    "    aes_c162_active.append(load_csv(cipher_csv_dir + '/skinny_c160_active_' + str(i) + '.csv')[:,1])\n",
    "    \n",
    "    aes_l3_active.append(load_csv(cipher_csv_dir + '/skinny_l3_active_' + str(i) + '.csv')[:,1])\n",
    "    \n",
    "    aes_c162_idle.append(load_csv(cipher_csv_dir + '/skinny_c160_idle_' + str(i) + '.csv')[:,1])\n",
    "   \n",
    "    aes_l3_idle.append(load_csv(cipher_csv_dir + '/skinny_l3_idle_' + str(i) + '.csv')[:,1])\n",
    "    \n",
    "    \n",
    "\n",
    "aes_c162_active = np.asarray(aes_c162_active)\n",
    "aes_l3_active = np.asarray(aes_l3_active)\n",
    "\n",
    "\n",
    "aes_c162_idle = np.asarray(aes_c162_idle)\n",
    "aes_l3_idle = np.asarray(aes_l3_idle)"
   ]
  },
  {
   "cell_type": "code",
   "execution_count": 44,
   "metadata": {},
   "outputs": [],
   "source": [
    "H = 1.5*1e-6\n",
    "tolerance= 30/100\n"
   ]
  },
  {
   "cell_type": "code",
   "execution_count": 45,
   "metadata": {},
   "outputs": [
    {
     "data": {
      "text/plain": [
       "-0.0006964975684496281"
      ]
     },
     "execution_count": 45,
     "metadata": {},
     "output_type": "execute_result"
    }
   ],
   "source": [
    "np.mean(rms(aes_c162_active)-rms(aes_c162_idle))"
   ]
  },
  {
   "cell_type": "code",
   "execution_count": 46,
   "metadata": {},
   "outputs": [
    {
     "data": {
      "text/plain": [
       "0.004777324148204094"
      ]
     },
     "execution_count": 46,
     "metadata": {},
     "output_type": "execute_result"
    }
   ],
   "source": [
    "current_active = cumtrapz(aes_l3_active/H, dx= sampling_time, axis= 1)\n",
    "\n",
    "\n",
    "current_idle = cumtrapz(aes_l3_idle/H, dx= sampling_time, axis= 1)\n",
    "\n",
    "np.mean(rms(current_active)- rms(current_idle))"
   ]
  },
  {
   "cell_type": "code",
   "execution_count": 47,
   "metadata": {},
   "outputs": [
    {
     "data": {
      "text/plain": [
       "0.4553351031753712"
      ]
     },
     "execution_count": 47,
     "metadata": {},
     "output_type": "execute_result"
    }
   ],
   "source": [
    "pwr_active= np.mean(np.outer(rms(current_active, axis=1),rms(aes_c162_active,axis=1)))\n",
    "pwr_active"
   ]
  },
  {
   "cell_type": "code",
   "execution_count": 48,
   "metadata": {},
   "outputs": [
    {
     "data": {
      "text/plain": [
       "0.44989148024617653"
      ]
     },
     "execution_count": 48,
     "metadata": {},
     "output_type": "execute_result"
    }
   ],
   "source": [
    "pwr_idle= np.mean(np.outer(rms(current_idle, axis=1),rms(aes_c162_idle,axis=1)))\n",
    "pwr_idle"
   ]
  },
  {
   "cell_type": "code",
   "execution_count": 49,
   "metadata": {},
   "outputs": [
    {
     "data": {
      "text/plain": [
       "0.005443622929194647"
      ]
     },
     "execution_count": 49,
     "metadata": {},
     "output_type": "execute_result"
    }
   ],
   "source": [
    "pwr_diff = pwr_active - pwr_idle\n",
    "pwr_diff"
   ]
  },
  {
   "cell_type": "code",
   "execution_count": 50,
   "metadata": {},
   "outputs": [
    {
     "data": {
      "text/plain": [
       "0.0016330868787583941"
      ]
     },
     "execution_count": 50,
     "metadata": {},
     "output_type": "execute_result"
    }
   ],
   "source": [
    "error = pwr_diff*30/100\n",
    "error\n"
   ]
  },
  {
   "cell_type": "code",
   "execution_count": null,
   "metadata": {},
   "outputs": [],
   "source": []
  },
  {
   "cell_type": "code",
   "execution_count": null,
   "metadata": {},
   "outputs": [],
   "source": []
  },
  {
   "cell_type": "code",
   "execution_count": null,
   "metadata": {},
   "outputs": [],
   "source": []
  },
  {
   "cell_type": "code",
   "execution_count": null,
   "metadata": {},
   "outputs": [],
   "source": []
  }
 ],
 "metadata": {
  "kernelspec": {
   "display_name": "Python [conda env:anaconda3]",
   "language": "python",
   "name": "conda-env-anaconda3-py"
  },
  "language_info": {
   "codemirror_mode": {
    "name": "ipython",
    "version": 3
   },
   "file_extension": ".py",
   "mimetype": "text/x-python",
   "name": "python",
   "nbconvert_exporter": "python",
   "pygments_lexer": "ipython3",
   "version": "3.6.3"
  }
 },
 "nbformat": 4,
 "nbformat_minor": 2
}
