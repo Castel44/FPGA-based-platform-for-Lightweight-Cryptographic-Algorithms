{
 "cells": [
  {
   "cell_type": "code",
   "execution_count": 37,
   "metadata": {},
   "outputs": [],
   "source": [
    "import numpy as np\n",
    "import matplotlib.pyplot as plt\n",
    "import os "
   ]
  },
  {
   "cell_type": "code",
   "execution_count": 38,
   "metadata": {},
   "outputs": [],
   "source": [
    "from scipy.integrate import cumtrapz"
   ]
  },
  {
   "cell_type": "code",
   "execution_count": 39,
   "metadata": {},
   "outputs": [],
   "source": [
    "def load_csv(file_name):\n",
    "    data = np.loadtxt(file_name, delimiter=',', skiprows=10)\n",
    "    return data"
   ]
  },
  {
   "cell_type": "code",
   "execution_count": 40,
   "metadata": {},
   "outputs": [],
   "source": [
    "cipher_csv_dir = os.getcwd() + '/Simeck_64_128_csv'"
   ]
  },
  {
   "cell_type": "code",
   "execution_count": 41,
   "metadata": {},
   "outputs": [],
   "source": [
    "sampling_freq = 100e6\n",
    "sampling_time = 1/sampling_freq\n"
   ]
  },
  {
   "cell_type": "code",
   "execution_count": 42,
   "metadata": {},
   "outputs": [],
   "source": [
    "def rms(x, axis=0):\n",
    "    y = np.mean(x**2, axis)**0.5\n",
    "    \n",
    "    return y"
   ]
  },
  {
   "cell_type": "code",
   "execution_count": 48,
   "metadata": {},
   "outputs": [],
   "source": [
    "# load aes\n",
    "cipher_c160_active = []\n",
    "cipher_l3_active =[]\n",
    "\n",
    "cipher_c160_idle = []\n",
    "cipher_l3_idle = []\n",
    "\n",
    "\n",
    "\n",
    "for i in range(1,11):\n",
    "    \n",
    "    cipher_c160_active.append(load_csv(cipher_csv_dir + '/simeck_active_c160_' + str(i) + '.csv')[:,1])\n",
    "    \n",
    "    cipher_l3_active.append(load_csv(cipher_csv_dir + '/simeck_active_l3_' + str(i) + '.csv')[:,1])\n",
    "    \n",
    "    cipher_c160_idle.append(load_csv(cipher_csv_dir + '/simeck_idle_c160_' + str(i) + '.csv')[:,1])\n",
    "   \n",
    "    cipher_l3_idle.append(load_csv(cipher_csv_dir + '/simeck_idle_l3_' + str(i) + '.csv')[:,1])\n",
    "    \n",
    "    \n",
    "\n",
    "cipher_c160_active = np.asarray(cipher_c160_active)\n",
    "cipher_l3_active = np.asarray(cipher_l3_active)\n",
    "\n",
    "\n",
    "cipher_c160_idle = np.asarray(cipher_c160_idle)\n",
    "cipher_l3_idle = np.asarray(cipher_l3_idle)"
   ]
  },
  {
   "cell_type": "code",
   "execution_count": 49,
   "metadata": {},
   "outputs": [],
   "source": [
    "H = 1.5*1e-6\n",
    "tolerance= 30/100\n"
   ]
  },
  {
   "cell_type": "code",
   "execution_count": 50,
   "metadata": {},
   "outputs": [],
   "source": [
    "current_active = cumtrapz(cipher_l3_active/H, dx= sampling_time, axis= 1)\n",
    "\n",
    "\n",
    "current_idle = cumtrapz(cipher_l3_idle/H, dx= sampling_time, axis= 1)\n"
   ]
  },
  {
   "cell_type": "code",
   "execution_count": 51,
   "metadata": {},
   "outputs": [],
   "source": [
    "pwr_active= np.mean(np.outer(rms(current_active, axis=1),rms(cipher_c160_active,axis=1)))\n"
   ]
  },
  {
   "cell_type": "code",
   "execution_count": 52,
   "metadata": {},
   "outputs": [],
   "source": [
    "pwr_idle= np.mean(np.outer(rms(current_idle, axis=1),rms(cipher_c160_idle,axis=1)))\n"
   ]
  },
  {
   "cell_type": "code",
   "execution_count": 53,
   "metadata": {},
   "outputs": [
    {
     "data": {
      "text/plain": [
       "0.0016604223202096313"
      ]
     },
     "execution_count": 53,
     "metadata": {},
     "output_type": "execute_result"
    }
   ],
   "source": [
    "pwr_diff = pwr_active - pwr_idle\n",
    "pwr_diff"
   ]
  },
  {
   "cell_type": "code",
   "execution_count": 54,
   "metadata": {},
   "outputs": [
    {
     "data": {
      "text/plain": [
       "0.0004981266960628894"
      ]
     },
     "execution_count": 54,
     "metadata": {},
     "output_type": "execute_result"
    }
   ],
   "source": [
    "error = pwr_diff*30/100\n",
    "error\n"
   ]
  },
  {
   "cell_type": "code",
   "execution_count": null,
   "metadata": {},
   "outputs": [],
   "source": []
  },
  {
   "cell_type": "code",
   "execution_count": null,
   "metadata": {},
   "outputs": [],
   "source": []
  },
  {
   "cell_type": "code",
   "execution_count": null,
   "metadata": {},
   "outputs": [],
   "source": []
  }
 ],
 "metadata": {
  "kernelspec": {
   "display_name": "Python [conda env:anaconda3]",
   "language": "python",
   "name": "conda-env-anaconda3-py"
  },
  "language_info": {
   "codemirror_mode": {
    "name": "ipython",
    "version": 3
   },
   "file_extension": ".py",
   "mimetype": "text/x-python",
   "name": "python",
   "nbconvert_exporter": "python",
   "pygments_lexer": "ipython3",
   "version": "3.6.3"
  }
 },
 "nbformat": 4,
 "nbformat_minor": 2
}
