{
 "cells": [
  {
   "cell_type": "code",
   "execution_count": 33,
   "metadata": {},
   "outputs": [],
   "source": [
    "import numpy as np\n",
    "import matplotlib.pyplot as plt\n",
    "import os "
   ]
  },
  {
   "cell_type": "code",
   "execution_count": 34,
   "metadata": {},
   "outputs": [],
   "source": [
    "from scipy.integrate import cumtrapz"
   ]
  },
  {
   "cell_type": "code",
   "execution_count": 35,
   "metadata": {},
   "outputs": [],
   "source": [
    "def load_csv(file_name):\n",
    "    data = np.loadtxt(file_name, delimiter=',', skiprows=10)\n",
    "    return data"
   ]
  },
  {
   "cell_type": "code",
   "execution_count": 36,
   "metadata": {},
   "outputs": [],
   "source": [
    "cipher_csv_dir = os.getcwd() + '/AES_csv'\n"
   ]
  },
  {
   "cell_type": "code",
   "execution_count": 37,
   "metadata": {},
   "outputs": [],
   "source": [
    "sampling_freq = 100e6\n",
    "sampling_time = 1/sampling_freq\n"
   ]
  },
  {
   "cell_type": "code",
   "execution_count": 38,
   "metadata": {},
   "outputs": [],
   "source": [
    "def rms(x, axis=0):\n",
    "    y = np.mean(x**2, axis)**0.5\n",
    "    \n",
    "    return y"
   ]
  },
  {
   "cell_type": "code",
   "execution_count": 39,
   "metadata": {},
   "outputs": [],
   "source": [
    "# load aes\n",
    "aes_c160_active = []\n",
    "aes_l3_active =[]\n",
    "\n",
    "aes_c160_idle = []\n",
    "aes_l3_idle = []\n",
    "\n",
    "\n",
    "\n",
    "for i in range(1,11):\n",
    "    \n",
    "    aes_c160_active.append(load_csv(cipher_csv_dir + '/aes_act_' + str(i) + '.csv')[:,1])\n",
    "    \n",
    "    aes_l3_active.append(load_csv(cipher_csv_dir + '/aes_active_l3_' + str(i) + '.csv')[:,1])\n",
    "    \n",
    "    aes_c160_idle.append(load_csv(cipher_csv_dir + '/aes_idle_' + str(i) + '.csv')[:,1])\n",
    "   \n",
    "    aes_l3_idle.append(load_csv(cipher_csv_dir + '/aes_idle_l3_' + str(i) + '.csv')[:,1])\n",
    "    \n",
    "    \n",
    "\n",
    "aes_c160_active = np.asarray(aes_c160_active)\n",
    "aes_l3_active = np.asarray(aes_l3_active)\n",
    "\n",
    "\n",
    "aes_c160_idle = np.asarray(aes_c160_idle)\n",
    "aes_l3_idle = np.asarray(aes_l3_idle)"
   ]
  },
  {
   "cell_type": "code",
   "execution_count": 40,
   "metadata": {},
   "outputs": [],
   "source": [
    "H = 1.5*1e-6\n",
    "tolerance= 30/100\n"
   ]
  },
  {
   "cell_type": "code",
   "execution_count": 41,
   "metadata": {},
   "outputs": [],
   "source": [
    "current_active = cumtrapz(aes_l3_active/H, dx= sampling_time, axis= 1)\n",
    "\n",
    "\n",
    "current_idle = cumtrapz(aes_l3_idle/H, dx= sampling_time, axis= 1)\n",
    "\n"
   ]
  },
  {
   "cell_type": "code",
   "execution_count": 42,
   "metadata": {},
   "outputs": [],
   "source": [
    "pwr_active= np.mean(np.outer(rms(current_active, axis=1),rms(aes_c160_active,axis=1)))"
   ]
  },
  {
   "cell_type": "code",
   "execution_count": 43,
   "metadata": {},
   "outputs": [],
   "source": [
    "pwr_idle= np.mean(np.outer(rms(current_idle, axis=1),rms(aes_c160_idle,axis=1)))"
   ]
  },
  {
   "cell_type": "code",
   "execution_count": 44,
   "metadata": {},
   "outputs": [
    {
     "data": {
      "text/plain": [
       "0.014386443624560596"
      ]
     },
     "execution_count": 44,
     "metadata": {},
     "output_type": "execute_result"
    }
   ],
   "source": [
    "pwr_diff = pwr_active - pwr_idle\n",
    "pwr_diff"
   ]
  },
  {
   "cell_type": "code",
   "execution_count": 45,
   "metadata": {},
   "outputs": [
    {
     "data": {
      "text/plain": [
       "0.004315933087368179"
      ]
     },
     "execution_count": 45,
     "metadata": {},
     "output_type": "execute_result"
    }
   ],
   "source": [
    "error = pwr_diff*30/100\n",
    "error\n"
   ]
  },
  {
   "cell_type": "code",
   "execution_count": null,
   "metadata": {},
   "outputs": [],
   "source": []
  },
  {
   "cell_type": "code",
   "execution_count": null,
   "metadata": {},
   "outputs": [],
   "source": []
  },
  {
   "cell_type": "code",
   "execution_count": null,
   "metadata": {},
   "outputs": [],
   "source": []
  },
  {
   "cell_type": "code",
   "execution_count": null,
   "metadata": {},
   "outputs": [],
   "source": []
  }
 ],
 "metadata": {
  "kernelspec": {
   "display_name": "Python [conda env:anaconda3]",
   "language": "python",
   "name": "conda-env-anaconda3-py"
  },
  "language_info": {
   "codemirror_mode": {
    "name": "ipython",
    "version": 3
   },
   "file_extension": ".py",
   "mimetype": "text/x-python",
   "name": "python",
   "nbconvert_exporter": "python",
   "pygments_lexer": "ipython3",
   "version": "3.6.3"
  }
 },
 "nbformat": 4,
 "nbformat_minor": 2
}
